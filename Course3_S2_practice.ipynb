{
  "nbformat": 4,
  "nbformat_minor": 0,
  "metadata": {
    "colab": {
      "provenance": []
    },
    "kernelspec": {
      "name": "python3",
      "display_name": "Python 3"
    },
    "language_info": {
      "name": "python"
    }
  },
  "cells": [
    {
      "cell_type": "code",
      "execution_count": null,
      "metadata": {
        "colab": {
          "base_uri": "https://localhost:8080/"
        },
        "id": "DeE7L8Xf4Ze2",
        "outputId": "633fccb6-53c5-4dae-8f79-b6005e633795"
      },
      "outputs": [
        {
          "output_type": "stream",
          "name": "stdout",
          "text": [
            "Enter a character (A, B, C):a\n",
            "Holiday\n"
          ]
        }
      ],
      "source": [
        "#task1:Decision-making based on user input\n",
        "#1.input\n",
        "user_input = input(\"Enter a character (A, B, C):\")\n",
        "\n",
        "if user_input == 'A':\n",
        "  print(\"Python\")\n",
        "elif user_input == 'B':\n",
        "  print(\"MySQL\")\n",
        "elif user_input == 'C':\n",
        "  print(\"Excel\")\n",
        "else:\n",
        "  print(\"Holiday\")"
      ]
    },
    {
      "cell_type": "code",
      "source": [
        "#task2:comparing two varibles\n",
        "num1 = int(input(\"Enter the first number: \"))\n",
        "num2 = int(input(\"Enter the second number: \"))\n",
        "\n",
        "if num1 > num2:\n",
        "    print((num1),\" is higher than\" ,(num2))\n",
        "elif num2 > num1:\n",
        "    print((num2),\" is higher than \",(num1))\n",
        "else:\n",
        "    print(\"both are equal\")\n"
      ],
      "metadata": {
        "colab": {
          "base_uri": "https://localhost:8080/"
        },
        "id": "3KANbsEV7nIy",
        "outputId": "e6595c8f-c54e-4e2a-a05d-eaf6f95ca778"
      },
      "execution_count": null,
      "outputs": [
        {
          "output_type": "stream",
          "name": "stdout",
          "text": [
            "Enter the first number: 10\n",
            "Enter the second number: 12\n",
            "12  is higher than  10\n"
          ]
        }
      ]
    },
    {
      "cell_type": "code",
      "source": [
        "#task3:calculating gross salary\n",
        "basic_salary = float(input(\"Enter monthly basic salary: \"))\n",
        "if basic_salary < 4000:\n",
        "    hra = 0.10 * basic_salary\n",
        "    ta = 0.05 * basic_salary\n",
        "elif basic_salary <= 10000:\n",
        "    hra = 0.10 * basic_salary\n",
        "    ta = 0.10 * basic_salary\n",
        "else:\n",
        "    hra = 0.15 * basic_salary\n",
        "    ta = 0.15 * basic_salary\n",
        "\n",
        "gross_salary = ((basic_salary + hra + ta) * 12)\n",
        "\n",
        "print(\"Annual Gross Salary:\", gross_salary)"
      ],
      "metadata": {
        "colab": {
          "base_uri": "https://localhost:8080/"
        },
        "id": "GapUICFK_BaU",
        "outputId": "02f43f68-816d-494d-b8d5-85046d8921bc"
      },
      "execution_count": 3,
      "outputs": [
        {
          "output_type": "stream",
          "name": "stdout",
          "text": [
            "Enter monthly basic salary: 4500\n",
            "Annual Gross Salary: 64800.0\n"
          ]
        }
      ]
    },
    {
      "cell_type": "code",
      "source": [
        "#task4:\n",
        "var = \"phython is an interpreted,high-level,general-purpose programming language.it's design philosophy emphasizes code readabilitu,with it use of significant indentation.its language constructs as well as its object_oriented approch aim to help progarmmers write clear,logical code for small and large_scale projects.\"\n",
        "word = input(\"enter a word to search in the text: \")\n",
        "if word in var:\n",
        "  print(\"YES\")\n",
        "else:\n",
        "  print(\"NO\")"
      ],
      "metadata": {
        "colab": {
          "base_uri": "https://localhost:8080/"
        },
        "id": "UBGx0Fz_H2vF",
        "outputId": "71ab1aef-cd84-4ad3-f619-732ac34ae423"
      },
      "execution_count": null,
      "outputs": [
        {
          "output_type": "stream",
          "name": "stdout",
          "text": [
            "enter a word to search in the text: code\n",
            "YES\n"
          ]
        }
      ]
    },
    {
      "cell_type": "code",
      "source": [
        "#task5:\n",
        "alphabet = input(\"Enter an alphabet: \")\n",
        "\n",
        "if alphabet.isupper():\n",
        "    print(\"UPPERCASE\")\n",
        "else:\n",
        "    print(\"lowercase\")"
      ],
      "metadata": {
        "colab": {
          "base_uri": "https://localhost:8080/"
        },
        "id": "5afEVFCsH4mq",
        "outputId": "81d4c0a2-b444-4871-b156-527482d76e6f"
      },
      "execution_count": 2,
      "outputs": [
        {
          "output_type": "stream",
          "name": "stdout",
          "text": [
            "Enter an alphabet: S\n",
            "UPPERCASE\n"
          ]
        }
      ]
    },
    {
      "cell_type": "code",
      "source": [
        "#task6:\n",
        "alphabet = input(\"Enter an alphabet: \")\n",
        "\n",
        "if alphabet in \"aeiouAEIOU\":\n",
        "    print(\"vowel\")\n",
        "else:\n",
        "    print(\"consonant\")"
      ],
      "metadata": {
        "colab": {
          "base_uri": "https://localhost:8080/"
        },
        "id": "k7TMwYtpNM0h",
        "outputId": "ee424eea-83cc-4f51-fb73-a4f665219a51"
      },
      "execution_count": 1,
      "outputs": [
        {
          "output_type": "stream",
          "name": "stdout",
          "text": [
            "Enter an alphabet: a\n",
            "vowel\n"
          ]
        }
      ]
    },
    {
      "cell_type": "code",
      "source": [],
      "metadata": {
        "id": "d078H12dNL3b"
      },
      "execution_count": null,
      "outputs": []
    }
  ]
}