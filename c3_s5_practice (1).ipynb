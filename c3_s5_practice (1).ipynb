{
  "nbformat": 4,
  "nbformat_minor": 0,
  "metadata": {
    "colab": {
      "provenance": []
    },
    "kernelspec": {
      "name": "python3",
      "display_name": "Python 3"
    },
    "language_info": {
      "name": "python"
    }
  },
  "cells": [
    {
      "cell_type": "code",
      "source": [
        "#task10\n",
        "def isover_18(dob ,doj):\n",
        "  dob_year = int((dob.split(\"-\"))[2])\n",
        "  doj_year = int((doj.split(\"-\"))[2])\n",
        "  age =doj_year - dob_year\n",
        "  if age >= 18:\n",
        "    return True\n",
        "  else:\n",
        "    return False"
      ],
      "metadata": {
        "id": "o-VvO83fld-g"
      },
      "execution_count": null,
      "outputs": []
    },
    {
      "cell_type": "code",
      "source": [
        "dob =\"12-25-1991\"\n",
        "doj =\"04-25-2020\"\n",
        "\n",
        "\n",
        "if (isover_18(dob, doj)):\n",
        "    print(\"the employee is over 18 years of age\")\n",
        "else:\n",
        "    print(\"the employee is not over 18 years of age\")"
      ],
      "metadata": {
        "colab": {
          "base_uri": "https://localhost:8080/"
        },
        "id": "bi2vBC8CsabR",
        "outputId": "ef2b35ca-4f82-4254-a92a-8c0f6b585249"
      },
      "execution_count": null,
      "outputs": [
        {
          "output_type": "stream",
          "name": "stdout",
          "text": [
            "the employee is over 18 years of age\n"
          ]
        }
      ]
    },
    {
      "cell_type": "code",
      "source": [
        "#task9:\n",
        "c=[12,14,14]\n",
        "d=[17,16,17]\n",
        "result=list(map(lambda x,y : x+y , c,d))\n",
        "print(result)\n"
      ],
      "metadata": {
        "id": "dynmh4gUve57",
        "colab": {
          "base_uri": "https://localhost:8080/"
        },
        "outputId": "3eb54a6e-3339-4277-8bd4-557c0208a7d0"
      },
      "execution_count": null,
      "outputs": [
        {
          "output_type": "stream",
          "name": "stdout",
          "text": [
            "[29, 30, 31]\n"
          ]
        }
      ]
    },
    {
      "cell_type": "code",
      "source": [
        "#task 8:\n",
        "a=[\"Andy\", \"Mandy\",\"Sandy\"]\n",
        "b=[\"Handy\",\"Burgundy\", \"Mandy\"]\n",
        "result=list(filter(lambda x: x in a,b))\n",
        "print(result)"
      ],
      "metadata": {
        "colab": {
          "base_uri": "https://localhost:8080/"
        },
        "id": "ZJIX7fBnO4WZ",
        "outputId": "751007ed-14b1-43a2-cd7f-82b2105ce95b"
      },
      "execution_count": null,
      "outputs": [
        {
          "output_type": "stream",
          "name": "stdout",
          "text": [
            "['Mandy']\n"
          ]
        }
      ]
    },
    {
      "cell_type": "code",
      "source": [
        "#task7:\n",
        "def sort_color_number(color_list):\n",
        "    sorted_color = sorted(color_list, key=lambda x: x[1])\n",
        "    return sorted_color\n",
        "\n",
        "color = [('black', 4), ('green', 1), ('red', 5), ('blue', 2), ('yellow', 3)]\n",
        "sorted_color = sort_color_number(color)\n",
        "print(sorted_color)"
      ],
      "metadata": {
        "colab": {
          "base_uri": "https://localhost:8080/"
        },
        "id": "65pEq0arS7IG",
        "outputId": "3d7aad36-17b8-4826-9af3-5e2fcc3bbf9b"
      },
      "execution_count": null,
      "outputs": [
        {
          "output_type": "stream",
          "name": "stdout",
          "text": [
            "[('green', 1), ('blue', 2), ('yellow', 3), ('black', 4), ('red', 5)]\n"
          ]
        }
      ]
    },
    {
      "cell_type": "code",
      "source": [
        "#task6:\n",
        "def f1():\n",
        "    name = input(\"Enter name: \")\n",
        "    age = int(input(\"Enter age: \"))\n",
        "    gender = input(\"Enter gender: \")\n",
        "    occupation = input(\"Enter occupation: \")\n",
        "\n",
        "    f2(name, age, gender, occupation)\n",
        "\n",
        "def f2(name, age, gender, occupation):\n",
        "\n",
        "    print(\"\\nProfile Card\")\n",
        "    print(\"Name:\", name)\n",
        "    print(\"Age:\", age)\n",
        "    print(\"Gender:\", gender)\n",
        "    print(\"Occupation:\", occupation)\n",
        "\n",
        "if __name__ == \"__main__\":\n",
        "    f1()"
      ],
      "metadata": {
        "colab": {
          "base_uri": "https://localhost:8080/"
        },
        "id": "0kBnyk1VUZQ6",
        "outputId": "6a0abfc0-769d-4960-b2c6-62a8a4d3d776"
      },
      "execution_count": null,
      "outputs": [
        {
          "output_type": "stream",
          "name": "stdout",
          "text": [
            "Enter name: Sandhya\n",
            "Enter age: 23\n",
            "Enter gender: Female\n",
            "Enter occupation: HR\n",
            "\n",
            "Profile Card\n",
            "Name: Sandhya\n",
            "Age: 23\n",
            "Gender: Female\n",
            "Occupation: HR\n"
          ]
        }
      ]
    },
    {
      "cell_type": "code",
      "source": [
        "#task5:\n",
        "def populate_dictionary():\n",
        "  my_dict = {}\n",
        "  while True:\n",
        "    item_name = input(\"Enter item name : \")\n",
        "    if item_name == 'done':\n",
        "      break\n",
        "    item_value = float(input(\"Enter item value: \"))\n",
        "    my_dict[item_name] = item_value\n",
        "\n",
        "  max_value = max(my_dict.values())\n",
        "  min_value = min(my_dict.values())\n",
        "\n",
        "  print(\"Max value:\", max_value)\n",
        "  print(\"Min value:\", min_value)\n",
        "populate_dictionary()"
      ],
      "metadata": {
        "colab": {
          "base_uri": "https://localhost:8080/"
        },
        "id": "2AEoO5S-YjdW",
        "outputId": "7ae9d9e2-9de1-4bd2-8c5b-ad97695224f7"
      },
      "execution_count": 1,
      "outputs": [
        {
          "output_type": "stream",
          "name": "stdout",
          "text": [
            "Enter item name : item1\n",
            "Enter item value: 45.50\n",
            "Enter item name : item2\n",
            "Enter item value: 35\n",
            "Enter item name : item3\n",
            "Enter item value: 41.30\n",
            "Enter item name : item4\n",
            "Enter item value: 29\n",
            "Enter item name : item5\n",
            "Enter item value: 49.89\n",
            "Enter item name : done\n",
            "Max value: 49.89\n",
            "Min value: 29.0\n"
          ]
        }
      ]
    },
    {
      "cell_type": "code",
      "source": [
        "#task4:\n",
        "def find_min_max(numbers):\n",
        "  min_value = min(numbers)\n",
        "  max_value = max(numbers)\n",
        "  return min_value, max_value\n",
        "def get_user_input():\n",
        "  numbers = []\n",
        "  for i in range(10):\n",
        "    number = int(input(f\"Enter number {i+1}: \"))\n",
        "    numbers.append(number)\n",
        "  return numbers\n",
        "\n",
        "numbers = get_user_input()\n",
        "min_value, max_value = find_min_max(numbers)\n",
        "\n",
        "print(\"Min =\", min_value)\n",
        "print(\"Max =\", max_value)"
      ],
      "metadata": {
        "id": "3rOjxCa4cZ5n",
        "colab": {
          "base_uri": "https://localhost:8080/"
        },
        "outputId": "3c0ee23c-ecb6-4e3c-be19-fce88a2e1ab0"
      },
      "execution_count": 13,
      "outputs": [
        {
          "output_type": "stream",
          "name": "stdout",
          "text": [
            "Enter number 1: 6\n",
            "Enter number 2: -7\n",
            "Enter number 3: 3\n",
            "Enter number 4: 49\n",
            "Enter number 5: -50\n",
            "Enter number 6: 23\n",
            "Enter number 7: 67\n",
            "Enter number 8: 76\n",
            "Enter number 9: -46\n",
            "Enter number 10: -99\n",
            "Min = -99\n",
            "Max = 76\n"
          ]
        }
      ]
    },
    {
      "cell_type": "code",
      "source": [
        "#task3:\n",
        "def convert_to_string(char_list):\n",
        "\n",
        "  string = ''.join(char_list)\n",
        "  return string\n",
        "\n",
        "char_list = ['V', 'i', 'h', 'a', 'r']\n",
        "result_string = convert_to_string(char_list)\n",
        "print(result_string)"
      ],
      "metadata": {
        "colab": {
          "base_uri": "https://localhost:8080/"
        },
        "id": "6SS2y7SqQa9z",
        "outputId": "18297f73-ca42-4db6-cb0e-a07b38c07e8c"
      },
      "execution_count": 8,
      "outputs": [
        {
          "output_type": "stream",
          "name": "stdout",
          "text": [
            "Vihar\n"
          ]
        }
      ]
    },
    {
      "cell_type": "code",
      "source": [
        "#task2:\n",
        "def accept_multiple_and_sort_words():\n",
        "   words = input(\"Enter words separated by commas: \").split(\",\")\n",
        "   words.sort()\n",
        "   print(words)\n",
        "\n",
        "accept_multiple_and_sort_words()\n"
      ],
      "metadata": {
        "colab": {
          "base_uri": "https://localhost:8080/"
        },
        "id": "q3kKJWJDQuK6",
        "outputId": "5378fe15-b26a-40c0-dae7-75dc1a005225"
      },
      "execution_count": 10,
      "outputs": [
        {
          "output_type": "stream",
          "name": "stdout",
          "text": [
            "Enter words separated by commas: 'sandhya' , 'vihar', 'chiru', 'sai', 'jayasri'\n",
            "[\" 'chiru'\", \" 'jayasri'\", \" 'sai'\", \" 'vihar'\", \"'sandhya' \"]\n"
          ]
        }
      ]
    },
    {
      "cell_type": "code",
      "source": [
        "#task1:\n",
        "def is_palindrome(word):\n",
        "  return word == word[::-1]\n",
        "\n",
        "word = input(\"Enter a word: \")\n",
        "if is_palindrome(word):\n",
        "  print(word, \"is a palindrome\")\n",
        "else:\n",
        "  print(word, \"is not a palindrome\")"
      ],
      "metadata": {
        "colab": {
          "base_uri": "https://localhost:8080/"
        },
        "id": "lKWVWorDRtpS",
        "outputId": "15adf90e-c861-43d6-b593-a2b21630e3cd"
      },
      "execution_count": 11,
      "outputs": [
        {
          "output_type": "stream",
          "name": "stdout",
          "text": [
            "Enter a word: mom\n",
            "mom is a palindrome\n"
          ]
        }
      ]
    }
  ]
}