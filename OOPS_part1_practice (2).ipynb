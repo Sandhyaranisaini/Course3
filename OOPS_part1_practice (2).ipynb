{
  "nbformat": 4,
  "nbformat_minor": 0,
  "metadata": {
    "colab": {
      "provenance": []
    },
    "kernelspec": {
      "name": "python3",
      "display_name": "Python 3"
    },
    "language_info": {
      "name": "python"
    }
  },
  "cells": [
    {
      "cell_type": "code",
      "execution_count": null,
      "metadata": {
        "id": "LU4l3w50Y_HG"
      },
      "outputs": [],
      "source": [
        "#task 1\n",
        "class Student:\n",
        "    def __init__(self, enrollment_ID, student_name, course_name, age, marks, grade=None):\n",
        "        self.enrollment_ID = enrollment_ID\n",
        "        self.student_name = student_name\n",
        "        self.course_name = course_name\n",
        "        self.age = age\n",
        "        self.marks = marks\n",
        "        self.grade = grade"
      ]
    },
    {
      "cell_type": "code",
      "source": [
        "#task2:\n",
        "class Student:\n",
        "    def __init__(self, enrollment_ID, student_name, course_name, age, marks, grade=None):\n",
        "        self.enrollment_ID = enrollment_ID\n",
        "        self.student_name = student_name\n",
        "        self.course_name = course_name\n",
        "        self.age = self.age_validation (age)  #validate age\n",
        "        self.marks = marks\n",
        "        self.grade = grade\n",
        "    def age_validation(self,age):\n",
        "        if not isinstance(age, int) or age < 3 or age > 60:\n",
        "            return ValueError(\"Invalid age. Age must be a positive integer between 3 and 60.\")\n",
        "        else:\n",
        "          return age\n",
        "Student = Student(1,\"sandhya\",\"Data_science\",23,89)\n",
        "print(Student.enrollment_ID,Student.student_name,Student.course_name,Student.age,Student.marks,Student.grade)\n"
      ],
      "metadata": {
        "colab": {
          "base_uri": "https://localhost:8080/"
        },
        "id": "2GQsEEDvaZ7N",
        "outputId": "def87818-1820-46fa-8393-6f0dd87cbbc5"
      },
      "execution_count": null,
      "outputs": [
        {
          "output_type": "stream",
          "name": "stdout",
          "text": [
            "1 sandhya Data_science 23 89 None\n"
          ]
        }
      ]
    },
    {
      "cell_type": "code",
      "source": [
        "#task3\n",
        "class Student:\n",
        "    def __init__(self, enrollment_ID, student_name, course_name, age, marks, grade=None):\n",
        "        self.enrollment_ID = enrollment_ID\n",
        "        self.student_name = student_name\n",
        "        self.course_name = course_name\n",
        "        self.age = age\n",
        "        self.marks = self.marks_validation (marks)  #validate_marks\n",
        "        self.grade = grade\n",
        "    def marks_validation(self,marks):\n",
        "        if 0<= marks <=44:\n",
        "          percentage = (marks/44)*100\n",
        "          return percentage\n",
        "        else:\n",
        "          return \"invalid marks\"\n",
        "Student = Student(1,\"sandhya\",\"Data_science\",23,35)\n",
        "print(Student.enrollment_ID,Student.student_name,Student.course_name,Student.age,Student.marks,Student.grade)\n",
        "\n"
      ],
      "metadata": {
        "id": "L_nnd7WAb2t1",
        "colab": {
          "base_uri": "https://localhost:8080/"
        },
        "outputId": "76636786-2fe7-445e-ad33-726c48a26532"
      },
      "execution_count": null,
      "outputs": [
        {
          "output_type": "stream",
          "name": "stdout",
          "text": [
            "1 sandhya Data_science 23 79.54545454545455 None\n"
          ]
        }
      ]
    },
    {
      "cell_type": "code",
      "source": [
        "#task4\n",
        "class Student:\n",
        "    def __init__(self, enrollment_ID, student_name, course_name, age, marks, grade=None):\n",
        "        self.enrollment_ID = enrollment_ID\n",
        "        self.student_name = student_name\n",
        "        self.course_name = course_name\n",
        "        self.age = age\n",
        "        self.marks = marks\n",
        "        self.grade =self. grade_calculation (grade) #grade_calculation\n",
        "\n",
        "    def grade_calculation(self,grade):\n",
        "      if  grade < 0:\n",
        "        return \"invalid\"\n",
        "      elif grade > 100:\n",
        "        return \"impossible\"\n",
        "      elif 80.01 <= grade <=100:\n",
        "        return \"Grade_A\"\n",
        "      elif 60.01<= grade <= 80:\n",
        "        return \"Grade_B\"\n",
        "      elif 40.01 <= grade <= 60:\n",
        "        return \"Grade_C\"\n",
        "      elif 20.01 <= grade <= 40:\n",
        "        return \"Grade_D\"\n",
        "      elif 0 <= grade <=20:\n",
        "        return \"Grade_F\"\n",
        "\n",
        "Student = Student(1,\"sandhya\",\"Data_science\",23,35, 79.5454545555)\n",
        "print(Student.enrollment_ID,Student.student_name,Student.course_name,Student.age,Student.marks,Student.grade)\n",
        "\n"
      ],
      "metadata": {
        "id": "kfinaklkQCcx",
        "colab": {
          "base_uri": "https://localhost:8080/"
        },
        "outputId": "9c9d3da8-5b76-4814-bae8-ff81e6366151"
      },
      "execution_count": 3,
      "outputs": [
        {
          "output_type": "stream",
          "name": "stdout",
          "text": [
            "1 sandhya Data_science 23 35 Grade_B\n"
          ]
        }
      ]
    },
    {
      "cell_type": "code",
      "source": [
        "#task5\n",
        "class Student:\n",
        "     def __init__(self,enrollment_ID,student_name, course_name, age, marks, grade=None):\n",
        "         self.enrollment_ID = enrollment_ID\n",
        "         self.student_name = student_name\n",
        "         self.course_name = course_name\n",
        "         self.age = age\n",
        "         self.marks = marks\n",
        "         self.grade = grade\n",
        "\n",
        "     def display(self):\n",
        "        print(\"enrollment_ID: \", self.enrollment_ID )\n",
        "        print(\"student_name: \", self.student_name )\n",
        "        print(\"course_name: \",self.course_name)\n",
        "        print(\"age: \",self.age)\n",
        "        print(\"marks: \",self.marks)\n",
        "        print(\"grade: \",self.grade)\n",
        "\n",
        "Student = Student(1,\"sandhya\",\"Data_science\",23,35,\"B\")\n",
        "print(Student.enrollment_ID,Student.student_name,Student.course_name,Student.age,Student.marks,Student.grade)\n"
      ],
      "metadata": {
        "colab": {
          "base_uri": "https://localhost:8080/"
        },
        "id": "DEhbNz4XcFk3",
        "outputId": "5971628e-41f2-428e-ee5e-b44f5f1d16c4"
      },
      "execution_count": null,
      "outputs": [
        {
          "output_type": "stream",
          "name": "stdout",
          "text": [
            "1 sandhya Data_science 23 35 B\n"
          ]
        }
      ]
    },
    {
      "cell_type": "code",
      "source": [
        "#task6\n",
        "class Guardian:\n",
        "    def __init__(self):\n",
        "        self.enrollment_id = int(input(\"Enter enrollment ID: \"))\n",
        "        self.guardians = []\n",
        "        self.total_guardians = 0\n",
        "\n",
        "    def add_guardian(self):\n",
        "        while True:\n",
        "            guardian_name = input(\"Enter guardian's name: \")\n",
        "            if guardian_name.lower() == 'done':\n",
        "                break\n",
        "            self.guardians.append(guardian_name)\n",
        "            self.total_guardians += 1\n",
        "\n",
        "        print(\"Guardian details:\")\n",
        "        for guardian in self.guardians:\n",
        "            print(guardian)\n",
        "\n",
        "\n",
        "guardian1 = Guardian()\n",
        "guardian1.add_guardian()\n"
      ],
      "metadata": {
        "colab": {
          "base_uri": "https://localhost:8080/"
        },
        "id": "a_Qnu4p9gNO3",
        "outputId": "2b8583bd-b8fb-42ce-a357-c182bf4854a2"
      },
      "execution_count": 2,
      "outputs": [
        {
          "output_type": "stream",
          "name": "stdout",
          "text": [
            "Enter enrollment ID: 123\n",
            "Enter guardian's name: Sandhya\n",
            "Enter guardian's name: Chiru\n",
            "Enter guardian's name: Gagan\n",
            "Enter guardian's name: done\n",
            "Guardian details:\n",
            "Sandhya\n",
            "Chiru\n",
            "Gagan\n"
          ]
        }
      ]
    },
    {
      "cell_type": "code",
      "source": [
        "class Guardian:\n",
        "    def __init__(self, enrollment_id):\n",
        "        self.enrollment_id = enrollment_id\n",
        "        self.guardians = []\n",
        "        self.total_guardians = 0\n",
        "        self.guardian_mobiles = {}\n",
        "\n",
        "    def add_guardian(self):\n",
        "        while True:\n",
        "            guardian_name = input(\"Enter guardian's name: \")\n",
        "            if guardian_name.lower() == 'done':\n",
        "                break\n",
        "            self.guardians.append(guardian_name)\n",
        "            self.total_guardians += 1\n",
        "\n",
        "            mobile_number = self.mobile()\n",
        "            if mobile_number:\n",
        "                self.guardian_mobiles[guardian_name] = mobile_number\n",
        "\n",
        "        print(\"Guardian details:\")\n",
        "        for index, guardian in enumerate(self.guardians):\n",
        "            print(f\"{index + 1}. {guardian}: {self.guardian_mobiles[guardian]}\")\n",
        "\n",
        "    @staticmethod\n",
        "    def mobile():\n",
        "        while True:\n",
        "            mobile_number = input(\"Enter mobile number (7 digits): \")\n",
        "            if len(mobile_number) == 7 :\n",
        "                return mobile_number\n",
        "            else:\n",
        "                print(\"Invalid mobile number format. Please enter 7 digits.\")\n",
        "\n",
        "guardian1 = Guardian(12345)\n",
        "guardian1.add_guardian()"
      ],
      "metadata": {
        "colab": {
          "base_uri": "https://localhost:8080/"
        },
        "id": "PXplaZMyfPVI",
        "outputId": "e452a4ea-e452-4772-e349-43451dd9f5ba"
      },
      "execution_count": 12,
      "outputs": [
        {
          "output_type": "stream",
          "name": "stdout",
          "text": [
            "Enter guardian's name: sandhya\n",
            "Enter mobile number (7 digits): 1234567\n",
            "Enter guardian's name: chiru\n",
            "Enter mobile number (7 digits): 0987654\n",
            "Enter guardian's name: gagan\n",
            "Enter mobile number (7 digits): 56784398\n",
            "Invalid mobile number format. Please enter 7 digits.\n",
            "Enter mobile number (7 digits): done\n",
            "Invalid mobile number format. Please enter 7 digits.\n",
            "Enter mobile number (7 digits): 1234568\n",
            "Enter guardian's name: done\n",
            "Guardian details:\n",
            "1. sandhya: 1234567\n",
            "2. chiru: 0987654\n",
            "3. gagan: 1234568\n"
          ]
        }
      ]
    }
  ]
}