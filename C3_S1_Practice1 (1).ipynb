{
  "cells": [
    {
      "cell_type": "markdown",
      "id": "eefe7ca2-ba5d-4981-8505-573da5220455",
      "metadata": {
        "id": "eefe7ca2-ba5d-4981-8505-573da5220455"
      },
      "source": [
        "### Practice"
      ]
    },
    {
      "cell_type": "code",
      "execution_count": null,
      "id": "ae1ace25-dda8-4464-801e-ea72a9001b2a",
      "metadata": {
        "colab": {
          "base_uri": "https://localhost:8080/"
        },
        "id": "ae1ace25-dda8-4464-801e-ea72a9001b2a",
        "outputId": "32c5115d-d937-4d15-b58a-d82af56cd4f0"
      },
      "outputs": [
        {
          "output_type": "stream",
          "name": "stdout",
          "text": [
            "Roll number: 23\n",
            "Type of rollno: <class 'int'>\n",
            "ID of rollno: 135722867491760\n"
          ]
        }
      ],
      "source": [
        "# Task 1: Variable assignment and information\n",
        "rollno = 23\n",
        "print(\"Roll number:\", rollno)\n",
        "print(\"Type of rollno:\", type(rollno))\n",
        "print(\"ID of rollno:\", id(rollno))"
      ]
    },
    {
      "cell_type": "code",
      "execution_count": null,
      "id": "1747af7d-ac9b-4e5c-ab28-ce2e59d212c4",
      "metadata": {
        "colab": {
          "base_uri": "https://localhost:8080/"
        },
        "id": "1747af7d-ac9b-4e5c-ab28-ce2e59d212c4",
        "outputId": "809dd850-d7e4-4f0e-9da4-e486faff23ca"
      },
      "outputs": [
        {
          "output_type": "stream",
          "name": "stdout",
          "text": [
            "\n",
            "First name: Sandhya\n",
            "Type of firstname: <class 'str'>\n",
            "ID of firstname: 135721825424944\n"
          ]
        }
      ],
      "source": [
        "#task(b)\n",
        "firstname = \"Sandhya\"\n",
        "print(\"\\nFirst name:\", firstname)\n",
        "print(\"Type of firstname:\", type(firstname))\n",
        "print(\"ID of firstname:\", id(firstname))"
      ]
    },
    {
      "cell_type": "code",
      "execution_count": null,
      "id": "f65e6eb1-d823-48a0-ac7b-d79efacfd786",
      "metadata": {
        "colab": {
          "base_uri": "https://localhost:8080/"
        },
        "id": "f65e6eb1-d823-48a0-ac7b-d79efacfd786",
        "outputId": "65647f0f-ff4a-4948-d680-6c9a851f4e61"
      },
      "outputs": [
        {
          "output_type": "stream",
          "name": "stdout",
          "text": [
            "\n",
            "Last name: Rani\n",
            "Type of lastname: <class 'str'>\n",
            "ID of lastname: 135721825425456\n"
          ]
        }
      ],
      "source": [
        "#task(c)\n",
        "lastname = \"Rani\"\n",
        "print(\"\\nLast name:\", lastname)\n",
        "print(\"Type of lastname:\", type(lastname))\n",
        "print(\"ID of lastname:\", id(lastname))"
      ]
    },
    {
      "cell_type": "code",
      "execution_count": null,
      "id": "4d4b3aad-473c-443b-bf75-a8a4a63cf05d",
      "metadata": {
        "colab": {
          "base_uri": "https://localhost:8080/"
        },
        "id": "4d4b3aad-473c-443b-bf75-a8a4a63cf05d",
        "outputId": "4f4e167a-561a-4427-cd0d-910d39ed6a07"
      },
      "outputs": [
        {
          "output_type": "stream",
          "name": "stdout",
          "text": [
            "\n",
            "Maximum marks: 50\n",
            "Type of max_marks: <class 'int'>\n",
            "ID of max_marks: 135722867492624\n"
          ]
        }
      ],
      "source": [
        "#task(d)\n",
        "max_marks = 50\n",
        "print(\"\\nMaximum marks:\", max_marks)\n",
        "print(\"Type of max_marks:\", type(max_marks))\n",
        "print(\"ID of max_marks:\", id(max_marks))"
      ]
    },
    {
      "cell_type": "code",
      "execution_count": 24,
      "id": "493c73e0-6a8c-400c-afea-1fc00327ae32",
      "metadata": {
        "colab": {
          "base_uri": "https://localhost:8080/"
        },
        "id": "493c73e0-6a8c-400c-afea-1fc00327ae32",
        "outputId": "05d3730c-25f5-4f6d-b0c5-25abbcaa1b9c"
      },
      "outputs": [
        {
          "output_type": "stream",
          "name": "stdout",
          "text": [
            "\n",
            "var1 = 2\n"
          ]
        }
      ],
      "source": [
        "# Task 2: Valid and invalid variable names\n",
        "var1 = 2\n",
        "print(\"\\nvar1 =\", var1)\n",
        "#This expression is valid and assigns the value 2 to a variable named var1. In most programming languages, this would successfully create a variable and store the value 2 in it.\n"
      ]
    },
    {
      "cell_type": "code",
      "execution_count": 25,
      "id": "c15dfe8e-103d-49b8-8859-ede62a0cebd7",
      "metadata": {
        "colab": {
          "base_uri": "https://localhost:8080/"
        },
        "id": "c15dfe8e-103d-49b8-8859-ede62a0cebd7",
        "outputId": "1c6d917a-027e-4f32-9ae2-83efa2a81a79"
      },
      "outputs": [
        {
          "output_type": "stream",
          "name": "stdout",
          "text": [
            "2var = 2  # This will cause an error\n"
          ]
        }
      ],
      "source": [
        "print(\"2var = 2  # This will cause an error\")\n",
        "#here variable start with  number 2 ,so it gives error.variables can not start with numbers"
      ]
    },
    {
      "cell_type": "code",
      "execution_count": 26,
      "id": "57232e82-60f6-413a-b75e-39135780080d",
      "metadata": {
        "colab": {
          "base_uri": "https://localhost:8080/"
        },
        "id": "57232e82-60f6-413a-b75e-39135780080d",
        "outputId": "e17d9277-2e6e-4872-9c51-eebfa425c867"
      },
      "outputs": [
        {
          "output_type": "stream",
          "name": "stdout",
          "text": [
            "var 1 = 2  # This will cause an error\n"
          ]
        }
      ],
      "source": [
        "print(\"var 1 = 2  # This will cause an error\")\n",
        "#This expression might also be invalid depending on the programming language. Variable names usually cannot have spaces. You might encounter an error or unexpected behavior."
      ]
    },
    {
      "cell_type": "code",
      "execution_count": 27,
      "id": "bf61f69a-d80b-4e9f-8373-3bb1eba032cf",
      "metadata": {
        "colab": {
          "base_uri": "https://localhost:8080/"
        },
        "id": "bf61f69a-d80b-4e9f-8373-3bb1eba032cf",
        "outputId": "e861dc8b-0c60-47e1-9564-68f63603b13d"
      },
      "outputs": [
        {
          "output_type": "stream",
          "name": "stdout",
          "text": [
            "var$2 = 2  # This will cause an error\n"
          ]
        }
      ],
      "source": [
        "print(\"var$2 = 2  # This will cause an error\")\n",
        "#variable names starts with letters,numbers,underscores,not with special characters like $.so it gives error here"
      ]
    },
    {
      "cell_type": "code",
      "source": [],
      "metadata": {
        "id": "4UJahgPtjcAl"
      },
      "id": "4UJahgPtjcAl",
      "execution_count": null,
      "outputs": []
    },
    {
      "cell_type": "code",
      "execution_count": null,
      "id": "15f1113a-50e7-4305-ae87-9063b12fdefb",
      "metadata": {
        "colab": {
          "base_uri": "https://localhost:8080/"
        },
        "id": "15f1113a-50e7-4305-ae87-9063b12fdefb",
        "outputId": "6ee7593a-d4db-4a5a-f3a5-690ac1fcab0d"
      },
      "outputs": [
        {
          "output_type": "stream",
          "name": "stdout",
          "text": [
            "15\n",
            "13\n",
            "True\n",
            "False\n"
          ]
        }
      ],
      "source": [
        "# Task 3: Keywords as variable names\n",
        "# Task 3: Assigning values to variables\n",
        "\n",
        "# a) Class = 15  # This is generally discouraged due to using a capitalized name like a keyword\n",
        "Class = 15\n",
        "print(Class)\n",
        "\n",
        "# b) class = 14  # This will cause a SyntaxError as 'class' is a keyword\n",
        "# class = 14\n",
        "\n",
        "# c) DEF = 13  # Discouraged due to using a capitalized name like a keyword\n",
        "DEF = 13\n",
        "print(DEF)\n",
        "\n",
        "# d) def = 12  # This will cause a SyntaxError as 'def' is a keyword\n",
        "# def = 12\n",
        "\n",
        "# e) a = TRUE  # Corrected to 'True' as Python is case-sensitive\n",
        "a = True\n",
        "print(a)\n",
        "\n",
        "# f) b = false  # Corrected to 'False' as Python is case-sensitive\n",
        "b = False\n",
        "print(b)\n"
      ]
    },
    {
      "cell_type": "code",
      "execution_count": null,
      "id": "e05baa63-f2fc-4f1a-88fb-8ad3dc46cbc7",
      "metadata": {
        "colab": {
          "base_uri": "https://localhost:8080/"
        },
        "id": "e05baa63-f2fc-4f1a-88fb-8ad3dc46cbc7",
        "outputId": "7fae08df-a0a4-4086-d330-951d232ea3dd"
      },
      "outputs": [
        {
          "output_type": "stream",
          "name": "stdout",
          "text": [
            "\n",
            "Marks: 92.76\n",
            "Type of marks: <class 'float'>\n",
            "ID of marks: 135722648878544\n"
          ]
        }
      ],
      "source": [
        "# Task 4: Floating-point numbers and variable reassignment\n",
        "marks = 92.76\n",
        "print(\"\\nMarks:\", marks)\n",
        "print(\"Type of marks:\", type(marks))\n",
        "print(\"ID of marks:\", id(marks))"
      ]
    },
    {
      "cell_type": "code",
      "execution_count": null,
      "id": "fbacfe04-b3bb-4d20-8a17-24973fa943e1",
      "metadata": {
        "colab": {
          "base_uri": "https://localhost:8080/"
        },
        "id": "fbacfe04-b3bb-4d20-8a17-24973fa943e1",
        "outputId": "7fe17f58-e8ce-42e6-ef22-cf079108785e"
      },
      "outputs": [
        {
          "output_type": "stream",
          "name": "stdout",
          "text": [
            "\n",
            "Updated marks: 87.97\n",
            "Type of marks: <class 'float'>\n",
            "ID of marks: 135722647207984\n"
          ]
        }
      ],
      "source": [
        "marks = 87.97\n",
        "print(\"\\nUpdated marks:\", marks)\n",
        "print(\"Type of marks:\", type(marks))\n",
        "print(\"ID of marks:\", id(marks))"
      ]
    },
    {
      "cell_type": "code",
      "execution_count": null,
      "id": "34dc1f40-db1e-47fd-9617-7aade11c3295",
      "metadata": {
        "colab": {
          "base_uri": "https://localhost:8080/"
        },
        "id": "34dc1f40-db1e-47fd-9617-7aade11c3295",
        "outputId": "4ec7723d-ee7e-4c43-bf9c-ca5e18f89059"
      },
      "outputs": [
        {
          "output_type": "stream",
          "name": "stdout",
          "text": [
            "\n",
            "Percentage: 87.97\n"
          ]
        }
      ],
      "source": [
        "# Task 5: Calculating percentage\n",
        "maxmarks=100\n",
        "percentage = (marks / maxmarks) * 100\n",
        "print(\"\\nPercentage:\", percentage)\n"
      ]
    },
    {
      "cell_type": "code",
      "execution_count": null,
      "id": "60b7e3f3-8df4-4613-a367-c8c85780ea9a",
      "metadata": {
        "colab": {
          "base_uri": "https://localhost:8080/"
        },
        "id": "60b7e3f3-8df4-4613-a367-c8c85780ea9a",
        "outputId": "95109e09-4b85-49ae-d308-0c1f4793f499"
      },
      "outputs": [
        {
          "output_type": "stream",
          "name": "stdout",
          "text": [
            "\n",
            "Full name: Sandhya Rani\n",
            "Sandhya Rani scored 87.97%\n"
          ]
        }
      ],
      "source": [
        "fullname = firstname + \" \" + lastname\n",
        "print(\"\\nFull name:\", fullname)\n",
        "\n",
        "result_string = fullname + \" scored \" + str(percentage) + \"%\"\n",
        "print(result_string)"
      ]
    },
    {
      "cell_type": "code",
      "execution_count": 23,
      "id": "8a558a0c-1ccf-4f21-bb49-ea6e8165c6aa",
      "metadata": {
        "colab": {
          "base_uri": "https://localhost:8080/",
          "height": 211
        },
        "id": "8a558a0c-1ccf-4f21-bb49-ea6e8165c6aa",
        "outputId": "fdf09bf7-d7ae-4b84-d086-7aad5054f231"
      },
      "outputs": [
        {
          "output_type": "error",
          "ename": "TypeError",
          "evalue": "unsupported operand type(s) for +: 'int' and 'str'",
          "traceback": [
            "\u001b[0;31m---------------------------------------------------------------------------\u001b[0m",
            "\u001b[0;31mTypeError\u001b[0m                                 Traceback (most recent call last)",
            "\u001b[0;32m<ipython-input-23-709629efb060>\u001b[0m in \u001b[0;36m<cell line: 4>\u001b[0;34m()\u001b[0m\n\u001b[1;32m      2\u001b[0m \u001b[0;34m\u001b[0m\u001b[0m\n\u001b[1;32m      3\u001b[0m \u001b[0;31m# Arithmetic operations\u001b[0m\u001b[0;34m\u001b[0m\u001b[0;34m\u001b[0m\u001b[0m\n\u001b[0;32m----> 4\u001b[0;31m \u001b[0ma\u001b[0m \u001b[0;34m=\u001b[0m \u001b[0;36m1\u001b[0m \u001b[0;34m+\u001b[0m \u001b[0;34m\"2\"\u001b[0m\u001b[0;34m\u001b[0m\u001b[0;34m\u001b[0m\u001b[0m\n\u001b[0m\u001b[1;32m      5\u001b[0m \u001b[0;31m#it gives error ..,here 1 indicates integer and\"2\" indicates string..,so we not add or concanate for this\u001b[0m\u001b[0;34m\u001b[0m\u001b[0;34m\u001b[0m\u001b[0m\n\u001b[1;32m      6\u001b[0m \u001b[0;34m\u001b[0m\u001b[0m\n",
            "\u001b[0;31mTypeError\u001b[0m: unsupported operand type(s) for +: 'int' and 'str'"
          ]
        }
      ],
      "source": [
        "# Task 6: Arithmetic Operations\n",
        "\n",
        "# Arithmetic operations\n",
        "a = 1 + \"2\"\n",
        "#it gives error ..,here 1 indicates integer and\"2\" indicates string..,so we not add or concanate for this\n",
        "\n",
        "\n",
        "\n",
        "\n",
        "\n"
      ]
    },
    {
      "cell_type": "code",
      "source": [
        "#(b)\n",
        "b=\"1\"+\"2\"\n",
        "print(b)\n",
        "#here \"1\",\"2\" indicates strings.same data structures.so here concatnate"
      ],
      "metadata": {
        "colab": {
          "base_uri": "https://localhost:8080/"
        },
        "id": "oat5GskkmLoZ",
        "outputId": "84b8f718-a62c-4b10-ebfd-b36bd0f106fc"
      },
      "id": "oat5GskkmLoZ",
      "execution_count": 28,
      "outputs": [
        {
          "output_type": "stream",
          "name": "stdout",
          "text": [
            "12\n"
          ]
        }
      ]
    },
    {
      "cell_type": "code",
      "execution_count": 29,
      "id": "daaa9205-52ad-4690-b584-5db7ccea59c5",
      "metadata": {
        "colab": {
          "base_uri": "https://localhost:8080/"
        },
        "id": "daaa9205-52ad-4690-b584-5db7ccea59c5",
        "outputId": "60c99b9e-b447-43f0-af8d-20d2157e0352"
      },
      "outputs": [
        {
          "output_type": "stream",
          "name": "stdout",
          "text": [
            "0.5\n"
          ]
        }
      ],
      "source": [
        "print(1/2)\n",
        "#here one / sign one time repeat.so it gives float value"
      ]
    },
    {
      "cell_type": "code",
      "execution_count": null,
      "id": "36827d03-25d9-47ca-9dd3-bf88dcf23c62",
      "metadata": {
        "colab": {
          "base_uri": "https://localhost:8080/"
        },
        "id": "36827d03-25d9-47ca-9dd3-bf88dcf23c62",
        "outputId": "a129655e-7973-42fc-e792-07d24a3a8deb"
      },
      "outputs": [
        {
          "output_type": "stream",
          "name": "stdout",
          "text": [
            "0\n"
          ]
        }
      ],
      "source": [
        "print(1//2)\n",
        "#here / sign two times repeated .so it gives only integer"
      ]
    },
    {
      "cell_type": "code",
      "execution_count": null,
      "id": "23eab175-b266-4e18-bdf5-d28718365f97",
      "metadata": {
        "colab": {
          "base_uri": "https://localhost:8080/"
        },
        "id": "23eab175-b266-4e18-bdf5-d28718365f97",
        "outputId": "1279c911-ee6d-42ce-8d72-5824a9828279"
      },
      "outputs": [
        {
          "output_type": "stream",
          "name": "stdout",
          "text": [
            "\n",
            "Logical operations:\n",
            "True and True = True\n",
            "True and False = False\n",
            "False or True = True\n",
            "False or False = False\n"
          ]
        }
      ],
      "source": [
        "#task7: Logical operations\n",
        "print(\"\\nLogical operations:\")\n",
        "print(\"True and True =\", True and True)  # Both conditions are True, so the result is True\n",
        "print(\"True and False =\", True and False)  # One condition is False, so the result is False\n",
        "print(\"False or True =\", False or True)  # One condition is True, so the result is True\n",
        "print(\"False or False =\", False or False)  # Both conditions are False, so the result is False\n",
        "\n"
      ]
    },
    {
      "cell_type": "code",
      "execution_count": null,
      "id": "77d805af-421c-4112-9466-291564ee449a",
      "metadata": {
        "colab": {
          "base_uri": "https://localhost:8080/"
        },
        "id": "77d805af-421c-4112-9466-291564ee449a",
        "outputId": "e19d6742-0a12-4e95-e200-79940f06303c"
      },
      "outputs": [
        {
          "output_type": "stream",
          "name": "stdout",
          "text": [
            "\n",
            "Membership and identity:\n",
            "'sandhya' in 'sandhya rani' = True\n",
            "firstname is fullname = False\n"
          ]
        }
      ],
      "source": [
        "#task8:a,b Membership and identity operators\n",
        "print(\"\\nMembership and identity:\")\n",
        "print(\"'sandhya' in 'sandhya rani' =\", 'sandhya' in 'sandhya rani')  # Checks if 'sandhya' is a substring in 'sandhya rani '\n",
        "print(\"firstname is fullname =\", firstname is fullname)  # Checks if 'firstname' and 'fullname' refer to the same object in memory\n"
      ]
    },
    {
      "cell_type": "code",
      "execution_count": null,
      "id": "61337915-ada4-466e-805d-0c1a00e59d33",
      "metadata": {
        "colab": {
          "base_uri": "https://localhost:8080/"
        },
        "id": "61337915-ada4-466e-805d-0c1a00e59d33",
        "outputId": "7b189f94-fcee-44df-e8c8-40798ff9776b"
      },
      "outputs": [
        {
          "output_type": "stream",
          "name": "stdout",
          "text": [
            "\n",
            "Operator precedence:\n",
            "a = 4 , b = 3 , c = 2\n",
            "a**b + c = 66   # Exponentiation is performed first, then addition\n",
            "a**(b + c) = 1024   # Parentheses force addition to be performed first, then exponentiation\n",
            "The output is different due to operator precedence in Python.\n"
          ]
        }
      ],
      "source": [
        "#task9:a,b,c\n",
        "# Task 10: Operator precedence\n",
        "a, b, c = 4, 3, 2\n",
        "\n",
        "# Exponentiation has higher precedence than addition\n",
        "d = a**b + c  # Equivalent to (a**b) + c\n",
        "print(\"\\nOperator precedence:\")\n",
        "print(\"a =\", a, \", b =\", b, \", c =\", c)\n",
        "print(\"a**b + c =\", d, \"  # Exponentiation is performed first, then addition\")\n",
        "\n",
        "# Parentheses can be used to override default precedence\n",
        "e = a**(b + c)  # Equivalent to a^(b+c)\n",
        "print(\"a**(b + c) =\", e, \"  # Parentheses force addition to be performed first, then exponentiation\")\n",
        "print(\"The output is different due to operator precedence in Python.\")\n",
        "\n"
      ]
    }
  ],
  "metadata": {
    "kernelspec": {
      "display_name": "Python 3 (ipykernel)",
      "language": "python",
      "name": "python3"
    },
    "language_info": {
      "codemirror_mode": {
        "name": "ipython",
        "version": 3
      },
      "file_extension": ".py",
      "mimetype": "text/x-python",
      "name": "python",
      "nbconvert_exporter": "python",
      "pygments_lexer": "ipython3",
      "version": "3.12.4"
    },
    "colab": {
      "provenance": []
    }
  },
  "nbformat": 4,
  "nbformat_minor": 5
}