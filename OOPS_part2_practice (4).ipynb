{
  "nbformat": 4,
  "nbformat_minor": 0,
  "metadata": {
    "colab": {
      "provenance": []
    },
    "kernelspec": {
      "name": "python3",
      "display_name": "Python 3"
    },
    "language_info": {
      "name": "python"
    }
  },
  "cells": [
    {
      "cell_type": "code",
      "execution_count": null,
      "metadata": {
        "colab": {
          "base_uri": "https://localhost:8080/"
        },
        "id": "ixIuwXYDAInS",
        "outputId": "9aa6a413-562b-4fd7-9beb-bcf1128da6a3"
      },
      "outputs": [
        {
          "output_type": "stream",
          "name": "stdout",
          "text": [
            "50\n"
          ]
        }
      ],
      "source": [
        "#task1:\n",
        "from abc import ABC, abstractmethod\n",
        "class Product(ABC):\n",
        "  @abstractmethod\n",
        "  def calculate_total_price(self):\n",
        "    pass\n",
        "\n",
        "#example\n",
        "class schoolproducts(Product):\n",
        "  def __init__(self,name,price,quantity):\n",
        "    self.name = name\n",
        "    self.price = price\n",
        "    self.quantity = quantity\n",
        "\n",
        "  def calculate_total_price(self):\n",
        "    return self.price*self.quantity\n",
        "\n",
        "product = schoolproducts(\"Pen\",10,5)\n",
        "total_price = product.calculate_total_price()\n",
        "print(total_price)\n"
      ]
    },
    {
      "cell_type": "code",
      "source": [
        "#task2:\n",
        "from abc import ABC , abstractclassmethod\n",
        "class Product(ABC):\n",
        "  @abstractmethod\n",
        "  def calculate_total_price(self):\n",
        "    pass\n",
        "\n",
        "class DigitalProduct(Product):\n",
        "  def __init__(self,product_name,price,wieght,shipping_charge,delivery_charge):\n",
        "     self.product_name = product_name\n",
        "     self.price = price\n",
        "     self.wieght = wieght\n",
        "     self.shipping_charge = shipping_charge\n",
        "     self.delivery_charge = delivery_charge\n",
        "  def calculate_total_price(self):\n",
        "    return self.price + self.shipping_charge + self.delivery_charge\n"
      ],
      "metadata": {
        "id": "Fb1sZiFfDyQS"
      },
      "execution_count": null,
      "outputs": []
    },
    {
      "cell_type": "code",
      "source": [
        "#task3:\n",
        "from abc import ABC , abstractmethod\n",
        "class Product(ABC):\n",
        "  @abstractmethod\n",
        "  def calculate_total_price(self):\n",
        "    pass\n",
        "class PhysicalProduct(Product):\n",
        "  def __init__(self, product_name, price, weight, shipping_charge, delivery_charge):\n",
        "        self.product_name = product_name\n",
        "        self.price = price\n",
        "        self.weight = weight\n",
        "        self.shipping_charge = shipping_charge\n",
        "        self.delivery_charge = delivery_charge\n",
        "\n",
        "  def calculate_total_price(self):\n",
        "        return self.price + self.shipping_charge + self.delivery_charge\n"
      ],
      "metadata": {
        "id": "SEzHPVxXGXYZ"
      },
      "execution_count": null,
      "outputs": []
    },
    {
      "cell_type": "code",
      "source": [
        "#task4:\n",
        "class Order:\n",
        "    def __init__(self, customer_name):\n",
        "        self._customer_name = customer_name\n",
        "        self._items = []\n",
        "        self._total_price = 0\n",
        "\n",
        "    def add_item(self, item):\n",
        "        self._items.append(item)\n",
        "        self._total_price += item.calculate_total_price()\n",
        "\n",
        "    def get_customer_name(self):\n",
        "        return self._customer_name\n",
        "\n",
        "    def get_items(self):\n",
        "        return self._items\n",
        "\n",
        "    def get_total_price(self):\n",
        "        return self._total_price"
      ],
      "metadata": {
        "id": "p2nWdCjCHL9x"
      },
      "execution_count": 23,
      "outputs": []
    },
    {
      "cell_type": "code",
      "source": [
        "#task5\n",
        "def main():\n",
        "\n",
        "    product1 = PhysicalProduct(\"Book\", 20, 0.5, 2.6, 3)\n",
        "    product2 = DigitalProduct(\"Ebook\", 9, 0.5, 0.9,5)\n",
        "\n",
        "\n",
        "    order1 = Order(\"Sandhya\")\n",
        "    order2 = Order(\"Chiru\")\n",
        "\n",
        "    order1.add_item(product1)\n",
        "    order2.add_item(product2)\n",
        "    order2.add_item(product1)\n",
        "\n",
        "    print(\"Order for:\", order1.get_customer_name())\n",
        "    print(\"Items:\")\n",
        "    for item in order1.get_items():\n",
        "        print(f\"- {item.product_name}: {item.calculate_total_price()}\")\n",
        "    print(\"Total Price:\", order1.get_total_price())\n",
        "    print(\"\\n\")\n",
        "\n",
        "    print(\"Order for:\", order2.get_customer_name())\n",
        "    print(\"Items:\")\n",
        "    for item in order2.get_items():\n",
        "        print(f\"- {item.product_name}: {item.calculate_total_price()}\")\n",
        "    print(\"Total Price:\", order2.get_total_price())\n",
        "\n",
        "if __name__ == \"__main__\":\n",
        "    main()"
      ],
      "metadata": {
        "colab": {
          "base_uri": "https://localhost:8080/"
        },
        "id": "GacR4WE1IFqa",
        "outputId": "82aaae23-aa14-4728-d31d-d7b6257d55e7"
      },
      "execution_count": null,
      "outputs": [
        {
          "output_type": "stream",
          "name": "stdout",
          "text": [
            "Order for: Sandhya\n",
            "Items:\n",
            "- Book: 25.6\n",
            "Total Price: 20\n",
            "\n",
            "\n",
            "Order for: Chiru\n",
            "Items:\n",
            "- Ebook: 14.9\n",
            "- Book: 25.6\n",
            "Total Price: 29\n"
          ]
        }
      ]
    },
    {
      "cell_type": "code",
      "source": [
        "# Exttra questions"
      ],
      "metadata": {
        "id": "Qm97f6YAKwlA"
      },
      "execution_count": null,
      "outputs": []
    },
    {
      "cell_type": "code",
      "source": [
        "\n",
        "#task1:create abstract class animal and create abstract method make_sound..create subclass:dog,cat,duck that override the makesound with their.\n",
        "from abc import ABC , abstractclassmethod\n",
        "\n",
        "class Animal(ABC): #abstractmethod\n",
        "   @abstractmethod\n",
        "   def Make_Sound(self): #abstractmethod\n",
        "    pass\n",
        "\n",
        "class Dog(Animal):\n",
        "  def Make_Sound(self):\n",
        "    print(\"the dog make_sounds bow...bow..!\")\n",
        "\n",
        "class Cat(Animal):\n",
        "  def Make_Sound(self):\n",
        "    print(\"the cat make_sounds meow..!\")\n",
        "\n",
        "class Duck(Animal):\n",
        "  def Make_Sound(self):\n",
        "    print(\"the duck make_sound quack..quack..quack..!\")\n",
        "\n",
        "Animal = [Dog(),Cat(),Duck()]\n",
        "for i in Animal:\n",
        "  i.Make_Sound()"
      ],
      "metadata": {
        "colab": {
          "base_uri": "https://localhost:8080/"
        },
        "id": "S9imNEs4J1m2",
        "outputId": "990e43cb-e693-4e19-ce44-200af4f41c39"
      },
      "execution_count": null,
      "outputs": [
        {
          "output_type": "stream",
          "name": "stdout",
          "text": [
            "the dog make_sounds bow...bow..!\n",
            "the cat make_sounds meow..!\n",
            "the duck make_sound quack..quack..quack..!\n"
          ]
        }
      ]
    },
    {
      "cell_type": "code",
      "source": [
        "#task2:create abstract class a vehicle and abstract method as start..create concrete class of vehicle that is car and bike\n",
        "from abc import ABC , abstractmethod\n",
        "class Vehicle(ABC):\n",
        "  @abstractmethod\n",
        "  def start(self):\n",
        "    pass\n",
        "class Car(Vehicle):\n",
        "  def start(self):\n",
        "    print(\"car started\")\n",
        "\n",
        "class Bike(Vehicle):\n",
        "  def start(self):\n",
        "    print(\"Bike started\")\n",
        "\n",
        "Vehicle = [Car(),Bike()]\n",
        "for i in Vehicle:\n",
        "  i.start()"
      ],
      "metadata": {
        "colab": {
          "base_uri": "https://localhost:8080/"
        },
        "id": "Ks09oc_5J1pp",
        "outputId": "0f109d82-0a42-4c56-b23f-ca809cc0a37d"
      },
      "execution_count": null,
      "outputs": [
        {
          "output_type": "stream",
          "name": "stdout",
          "text": [
            "car started\n",
            "Bike started\n"
          ]
        }
      ]
    },
    {
      "cell_type": "code",
      "source": [
        "#task3:create MakeSound abstractmethosd and make_sound abstract class.concrete the subclasess like dog,cat,bird and write implementation use def main()\n",
        "from abc import ABC , abstractmethod\n",
        "class MakeSound(ABC):\n",
        "  @abstractmethod\n",
        "  def make_sound(self):\n",
        "    pass\n",
        "class Pet:\n",
        "  def __init__(self,name,age):\n",
        "    self.name = name\n",
        "    self.age = age\n",
        "class Dog(Pet,MakeSound):\n",
        "  def __init__(self,name,age,breed,energy_level):\n",
        "    super().__init__(name,age)\n",
        "    self.breed = breed\n",
        "    self.energy_level = energy_level\n",
        "  def make_sound(self):\n",
        "    return f\"{self.name} woof!\"\n",
        "class Cat(Pet,MakeSound):\n",
        "  def __init__(self,name,age,breed,energy_level):\n",
        "    super(). __init__(name,age)\n",
        "    self.breed = breed\n",
        "    self.energy_level = energy_level\n",
        "  def make_sound(self):\n",
        "    return f\"{self.name} meow!\"\n",
        "\n",
        "class Bird(Pet,MakeSound):\n",
        "  def __init__(self,name,age,breed,energy_level):\n",
        "    super().__init__(name,age)\n",
        "    self.breed = breed\n",
        "    self.energy_level = energy_level\n",
        "  def make_sound(self):\n",
        "    return f\"{self.name} chirps!\"\n",
        "def main():\n",
        "  dog = Dog(\"Buddy\",3,\"Labrador\",\"High\")\n",
        "  cat = Cat(\"Luna\",2,\"Siamese fur\",\"high\")\n",
        "  bird = Bird(\"Tweety\",2,\"Canary\",\"low\")\n",
        "\n",
        "\n",
        "  print(dog.make_sound())\n",
        "  print(cat.make_sound())\n",
        "  print(bird.make_sound())\n",
        "\n",
        "  print(f\"Buddy is a {dog.breed} breed and with{dog.energy_level} enrgy_level\")\n",
        "  print(f\"Luna has {cat.breed}\")\n",
        "  print(f\"Tweety is a {bird.breed}\")\n",
        "\n",
        "if __name__ == \"__main__\":\n",
        "  main()\n",
        "\n"
      ],
      "metadata": {
        "colab": {
          "base_uri": "https://localhost:8080/"
        },
        "id": "euLRyt5sRfFU",
        "outputId": "3c92fa5a-9c59-4917-9a79-92bc082cae32"
      },
      "execution_count": null,
      "outputs": [
        {
          "output_type": "stream",
          "name": "stdout",
          "text": [
            "Buddy woof!\n",
            "Luna meow!\n",
            "Tweety chirps!\n",
            "Buddy is a Labrador breed and withHigh enrgy_level\n",
            "Luna has Siamese fur\n",
            "Tweety is a Canary\n"
          ]
        }
      ]
    }
  ]
}