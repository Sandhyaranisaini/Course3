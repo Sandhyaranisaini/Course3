{
  "nbformat": 4,
  "nbformat_minor": 0,
  "metadata": {
    "colab": {
      "provenance": []
    },
    "kernelspec": {
      "name": "python3",
      "display_name": "Python 3"
    },
    "language_info": {
      "name": "python"
    }
  },
  "cells": [
    {
      "cell_type": "code",
      "source": [
        "#task1:\n",
        "mynames = [\"Joe\" , \"Zoe\" , \"World\",\"Brand\", \"Angelina\", \"World\", \"Zuki\",\"Tom\", \"Paris\",\"World\",\"magic\"]\n",
        "for i in mynames:\n",
        "  if i==\"USA\":\n",
        "    print(\"TRUE\")\n",
        "else:\n",
        "    print(\"FALSE\")"
      ],
      "metadata": {
        "colab": {
          "base_uri": "https://localhost:8080/"
        },
        "id": "avfjA2p2yY92",
        "outputId": "9cf3caf7-a9ce-44ca-f513-3e6395f2bb4c"
      },
      "execution_count": null,
      "outputs": [
        {
          "output_type": "stream",
          "name": "stdout",
          "text": [
            "FALSE\n"
          ]
        }
      ]
    },
    {
      "cell_type": "code",
      "execution_count": null,
      "metadata": {
        "colab": {
          "base_uri": "https://localhost:8080/"
        },
        "id": "sMHgmFDHyXCa",
        "outputId": "9c99dcd6-5c26-4746-d7f0-df5af6aecfd6"
      },
      "outputs": [
        {
          "output_type": "stream",
          "name": "stdout",
          "text": [
            "the word 'world' appears 3 times in the list.\n"
          ]
        }
      ],
      "source": [
        "#task(2):\n",
        "mynames = [\"Joe\" , \"Zoe\" , \"World\",\"Brand\", \"Angelina\", \"World\", \"Zuki\",\"Tom\", \"Paris\",\"World\",\"magic\"]\n",
        "count =0\n",
        "for name in mynames:\n",
        "  if name ==\"World\":\n",
        "    count += 1\n",
        "print(\"the word 'world' appears\", count ,\"times in the list.\" )"
      ]
    },
    {
      "cell_type": "code",
      "source": [
        "#Task3:\n",
        "numlist = list(range(1, 30))\n",
        "\n",
        "even_count = 0\n",
        "odd_count = 0\n",
        "\n",
        "for number in numlist:\n",
        "    if number % 2 == 0:\n",
        "        even_count += 1\n",
        "    else:\n",
        "        odd_count += 1\n",
        "\n",
        "print(\"Total even numbers:\", even_count)\n",
        "print(\"Total odd numbers:\", odd_count)"
      ],
      "metadata": {
        "colab": {
          "base_uri": "https://localhost:8080/"
        },
        "id": "h-zP88QT0q2a",
        "outputId": "49cf5912-8abf-4087-85a2-76796c83dd6b"
      },
      "execution_count": null,
      "outputs": [
        {
          "output_type": "stream",
          "name": "stdout",
          "text": [
            "Total even numbers: 14\n",
            "Total odd numbers: 15\n"
          ]
        }
      ]
    },
    {
      "cell_type": "code",
      "source": [
        "#task4:\n",
        "numlist = list(range(1, 30))\n",
        "even_numbers = []\n",
        "for num in numlist:\n",
        "    if num % 2 == 0:\n",
        "        even_numbers.append(num)\n",
        "\n",
        "    if len(even_numbers) == 5:\n",
        "        break\n",
        "\n",
        "print(even_numbers)"
      ],
      "metadata": {
        "colab": {
          "base_uri": "https://localhost:8080/"
        },
        "id": "amSuz1t42fZ5",
        "outputId": "2a5e3e6f-119d-4902-ddfb-228feda38dc2"
      },
      "execution_count": 1,
      "outputs": [
        {
          "output_type": "stream",
          "name": "stdout",
          "text": [
            "[2, 4, 6, 8, 10]\n"
          ]
        }
      ]
    },
    {
      "cell_type": "code",
      "source": [
        "#task5:\n",
        "numlist = list(range(1, 30))\n",
        "last_odd = None\n",
        "second_last_odd = None\n",
        "\n",
        "for num in reversed(numlist):\n",
        "    if num % 2 != 0:\n",
        "        if last_odd is None:\n",
        "            last_odd = num\n",
        "        else:\n",
        "            second_last_odd = num\n",
        "            break\n",
        "\n",
        "\n",
        "if last_odd is not None:\n",
        "    print(last_odd)\n",
        "if second_last_odd is not None:\n",
        "    print(second_last_odd)"
      ],
      "metadata": {
        "colab": {
          "base_uri": "https://localhost:8080/"
        },
        "id": "E4XIQGEX3utk",
        "outputId": "a258dc3c-e8d6-40d2-d3ea-6d746769b9ae"
      },
      "execution_count": 2,
      "outputs": [
        {
          "output_type": "stream",
          "name": "stdout",
          "text": [
            "29\n",
            "27\n"
          ]
        }
      ]
    },
    {
      "cell_type": "code",
      "source": [
        "#task6:\n",
        "x = []\n",
        "y = []\n",
        "print(\"Enter 5 strings:\")\n",
        "for i in range(5):\n",
        "    string = input()\n",
        "    x.append(string)\n",
        "\n",
        "print(\"Enter 3 numbers:\")\n",
        "for i in range(3):\n",
        "    number = int(input())\n",
        "    y.append(number)\n",
        "\n",
        "x.extend(y)\n",
        "print(x)"
      ],
      "metadata": {
        "colab": {
          "base_uri": "https://localhost:8080/"
        },
        "id": "JOQalJNu5EyE",
        "outputId": "253ae13e-2815-49ec-929f-ec1a171a731a"
      },
      "execution_count": null,
      "outputs": [
        {
          "output_type": "stream",
          "name": "stdout",
          "text": [
            "Enter 5 strings:\n",
            "sandhya\n",
            "sai\n",
            "gagan\n",
            "vihar\n",
            "chiru\n",
            "Enter 3 numbers:\n",
            "1\n",
            "2\n",
            "3\n",
            "['sandhya', 'sai', 'gagan', 'vihar', 'chiru', 1, 2, 3]\n"
          ]
        }
      ]
    },
    {
      "cell_type": "code",
      "source": [
        "#task7:\n",
        "list_a = []\n",
        "for num in range(1, 11):\n",
        "    square = num * num\n",
        "    list_a.append(square)\n",
        "\n",
        "list_b = []\n",
        "for num in range(30, 41):\n",
        "    square = num * num\n",
        "    list_b.append(square)\n",
        "\n",
        "print(\"List_a:\", list_a)\n",
        "print(\"List_b:\", list_b)"
      ],
      "metadata": {
        "colab": {
          "base_uri": "https://localhost:8080/"
        },
        "id": "HXnZebU568Ju",
        "outputId": "b5571ebd-c533-44f4-92a6-0285e9a2a5d1"
      },
      "execution_count": null,
      "outputs": [
        {
          "output_type": "stream",
          "name": "stdout",
          "text": [
            "List a: [1, 4, 9, 16, 25, 36, 49, 64, 81, 100]\n",
            "List b: [900, 961, 1024, 1089, 1156, 1225, 1296, 1369, 1444, 1521, 1600]\n"
          ]
        }
      ]
    },
    {
      "cell_type": "code",
      "source": [
        "#task8:\n",
        "number = int(input(\"Enter a positive integer: \"))\n",
        "\n",
        "for i in range(1, 11):\n",
        "    result = number * i\n",
        "    print(f\"{number} x {i} = {result}\")"
      ],
      "metadata": {
        "colab": {
          "base_uri": "https://localhost:8080/"
        },
        "id": "FYYQxgRl7aMS",
        "outputId": "f0a9d562-459b-461f-86db-48985eaa3517"
      },
      "execution_count": null,
      "outputs": [
        {
          "output_type": "stream",
          "name": "stdout",
          "text": [
            "Enter a positive integer: 6\n",
            "6 x 1 = 6\n",
            "6 x 2 = 12\n",
            "6 x 3 = 18\n",
            "6 x 4 = 24\n",
            "6 x 5 = 30\n",
            "6 x 6 = 36\n",
            "6 x 7 = 42\n",
            "6 x 8 = 48\n",
            "6 x 9 = 54\n",
            "6 x 10 = 60\n"
          ]
        }
      ]
    }
  ]
}