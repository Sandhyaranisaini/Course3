{
  "nbformat": 4,
  "nbformat_minor": 0,
  "metadata": {
    "colab": {
      "provenance": []
    },
    "kernelspec": {
      "name": "python3",
      "display_name": "Python 3"
    },
    "language_info": {
      "name": "python"
    }
  },
  "cells": [
    {
      "cell_type": "code",
      "execution_count": 1,
      "metadata": {
        "colab": {
          "base_uri": "https://localhost:8080/"
        },
        "id": "jqyWs6iqItGH",
        "outputId": "a8e431de-4dfa-4397-ff13-6d2c89f0d176"
      },
      "outputs": [
        {
          "output_type": "stream",
          "name": "stdout",
          "text": [
            "n:6\n",
            "720\n"
          ]
        }
      ],
      "source": [
        "#task1:\n",
        "factorial = int(input(\"n:\", ))\n",
        "i=1\n",
        "while factorial > 0:\n",
        "   i= i*factorial\n",
        "   factorial = factorial-1\n",
        "print(i)"
      ]
    },
    {
      "cell_type": "code",
      "source": [
        "#task2:\n",
        "num = 50\n",
        "divisor = 2\n",
        "is_prime = True\n",
        "\n",
        "while divisor < num:\n",
        "    if num % divisor == 0:\n",
        "        is_prime = False\n",
        "        break\n",
        "    divisor += 1\n",
        "\n",
        "if is_prime:\n",
        "    print(\"50 is a prime number\")\n",
        "else:\n",
        "    print(\"50 is not a prime number\")\n",
        "\n",
        "# Check if 51 is prime\n",
        "num = 51\n",
        "divisor = 2\n",
        "is_prime = True\n",
        "\n",
        "while divisor < num:\n",
        "    if num % divisor == 0:\n",
        "        is_prime = False\n",
        "        break\n",
        "    divisor += 1\n",
        "\n",
        "if is_prime:\n",
        "    print(\"51 is a prime number\")\n",
        "else:\n",
        "    print(\"51 is not a prime number\")\n",
        "\n",
        "\n",
        "\n"
      ],
      "metadata": {
        "colab": {
          "base_uri": "https://localhost:8080/"
        },
        "id": "rpXtGBurJYU_",
        "outputId": "571f72c5-4a9a-45f4-b573-43f11e18b0ca"
      },
      "execution_count": 3,
      "outputs": [
        {
          "output_type": "stream",
          "name": "stdout",
          "text": [
            "50 is not a prime number\n",
            "51 is not a prime number\n"
          ]
        }
      ]
    },
    {
      "cell_type": "code",
      "source": [
        "#task3:\n",
        "number = int(input(\"Enter a five-digit number: \"))\n",
        "sum_of_digits = 0\n",
        "while number > 0:\n",
        "    digit = number % 10\n",
        "    sum_of_digits += digit\n",
        "    number //= 10\n",
        "print(\"Sum of digits:\", sum_of_digits)\n"
      ],
      "metadata": {
        "colab": {
          "base_uri": "https://localhost:8080/"
        },
        "id": "Mgf4M4pmP5nU",
        "outputId": "16db810e-2753-434c-d7b1-5a1153cd41a4"
      },
      "execution_count": 5,
      "outputs": [
        {
          "output_type": "stream",
          "name": "stdout",
          "text": [
            "Enter a five-digit number: 34567\n",
            "Sum of digits: 25\n"
          ]
        }
      ]
    },
    {
      "cell_type": "code",
      "source": [
        "#task4:\n",
        "n=int(input(\"fibonacci series up to: \"))\n",
        "if n <= 0:\n",
        "    print(\" enter a positive integer\")\n",
        "elif n == 1:\n",
        "    print(\"Fibonacci series up to\", n, \":\")\n",
        "    print(0)\n",
        "else:\n",
        "    print(\"Fibonacci series up to\", n, \":\")\n",
        "    first_term = 0\n",
        "    second_term = 1\n",
        "    count = 0\n",
        "    while count < n:\n",
        "      print(first_term, end=\" \")\n",
        "      next_term = first_term + second_term\n",
        "      first_term = second_term\n",
        "      second_term = next_term\n",
        "      count += 1"
      ],
      "metadata": {
        "colab": {
          "base_uri": "https://localhost:8080/"
        },
        "id": "eqqOP7ihUjgb",
        "outputId": "3d5d6edc-f143-4d6f-ecd8-7a77c20037cd"
      },
      "execution_count": null,
      "outputs": [
        {
          "output_type": "stream",
          "name": "stdout",
          "text": [
            "fibonacci series up to: 7\n",
            "Fibonacci series up to 7 :\n",
            "0 1 1 2 3 5 8 "
          ]
        }
      ]
    },
    {
      "cell_type": "code",
      "source": [
        "#task5:\n",
        "t1 = (1, 2, 3)\n",
        "t2 = (4, 5, 6)\n",
        "\n",
        "print(\"ID of t1 before concatenation:\", id(t1))\n",
        "print(\"ID of t2 before concatenation:\", id(t2))\n",
        "t1 = t1 + t2\n",
        "\n",
        "print(\"ID of t1 after concatenation:\", id(t1))\n",
        "print(\"ID of t2 after concatenation:\", id(t2))\n",
        "\n",
        "\"\"\"Interpretation:The ID of t1 changes after concatenation.\n",
        "The ID of t2 remains the same.\"\"\"\n"
      ],
      "metadata": {
        "colab": {
          "base_uri": "https://localhost:8080/"
        },
        "id": "-rsvGN3TUk2j",
        "outputId": "3dcb269d-0f3a-414d-b55b-f82fe1680a88"
      },
      "execution_count": null,
      "outputs": [
        {
          "output_type": "stream",
          "name": "stdout",
          "text": [
            "ID of t1 before concatenation: 133917410084800\n",
            "ID of t2 before concatenation: 133917411167232\n",
            "ID of t1 after concatenation: 133918239498080\n",
            "ID of t2 after concatenation: 133917411167232\n"
          ]
        }
      ]
    },
    {
      "cell_type": "code",
      "source": [
        "#task6:\n",
        "m = {10, 20, 30, 40, 50}\n",
        "n = [33, 40, 55, 60, 70]\n",
        "\n",
        "for i in n:\n",
        "    m.add(i)\n",
        "\n",
        "print(m)\n",
        "#The elements that were common in both the set m and the list n  are not duplicated in the final set m. This is because sets automatically eliminate duplicates.\n",
        "# So, adding an element that already exists in the set has no effect."
      ],
      "metadata": {
        "id": "maT7wfrEUjxl",
        "colab": {
          "base_uri": "https://localhost:8080/"
        },
        "outputId": "c3adc7ba-d319-4791-b068-cd22e4a8b7e7"
      },
      "execution_count": null,
      "outputs": [
        {
          "output_type": "stream",
          "name": "stdout",
          "text": [
            "{70, 10, 20, 30, 33, 40, 50, 55, 60}\n"
          ]
        }
      ]
    },
    {
      "cell_type": "code",
      "source": [
        "#task7:\n",
        "Data_Set = {'Python': 1, 'Data': 2, 'Excel': 3, 'SQL': 4}\n",
        "for key, value in Data_Set.items():\n",
        "    if value % 2 == 0:\n",
        "        print(f\"{key}: {value}\")\n"
      ],
      "metadata": {
        "colab": {
          "base_uri": "https://localhost:8080/"
        },
        "id": "9ebQnix-8_eQ",
        "outputId": "287371ab-ed94-42ee-e22c-5dfc383d89b5"
      },
      "execution_count": null,
      "outputs": [
        {
          "output_type": "stream",
          "name": "stdout",
          "text": [
            "Data : 2\n",
            "SQL : 4\n"
          ]
        }
      ]
    },
    {
      "cell_type": "code",
      "source": [
        "#task8:\n",
        "D = {}\n",
        "for num in range(1, 16):\n",
        "    D[num] = num * num\n",
        "D.update({100: 10000})\n",
        "print(D)"
      ],
      "metadata": {
        "colab": {
          "base_uri": "https://localhost:8080/"
        },
        "id": "pVHnC1tJ_CPV",
        "outputId": "2a30a01a-1856-4478-9bf4-296573bbcf0f"
      },
      "execution_count": 2,
      "outputs": [
        {
          "output_type": "stream",
          "name": "stdout",
          "text": [
            "{1: 1, 2: 4, 3: 9, 4: 16, 5: 25, 6: 36, 7: 49, 8: 64, 9: 81, 10: 100, 11: 121, 12: 144, 13: 169, 14: 196, 15: 225, 100: 10000}\n"
          ]
        }
      ]
    }
  ]
}